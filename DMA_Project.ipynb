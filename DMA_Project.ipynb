{
 "cells": [
  {
   "cell_type": "code",
   "execution_count": 1,
   "id": "initial_id",
   "metadata": {
    "collapsed": true,
    "ExecuteTime": {
     "end_time": "2024-01-26T18:56:00.714588900Z",
     "start_time": "2024-01-26T18:56:00.264042400Z"
    }
   },
   "outputs": [],
   "source": [
    "import numpy as np\n",
    "import pandas as pd"
   ]
  },
  {
   "cell_type": "markdown",
   "source": [
    "Wagner,Dennis, Heider,D., and Hattab,Georges. (2023). Secondary Mushroom Dataset. UCI Machine Learning Repository. https://doi.org/10.24432/C5FP5Q.\n"
   ],
   "metadata": {
    "collapsed": false
   },
   "id": "7b5e69c03b98c334"
  },
  {
   "cell_type": "code",
   "execution_count": 2,
   "outputs": [],
   "source": [
    "primary = pd.read_csv('primary_data.csv', sep=';')\n",
    "secondary = pd.read_csv('secondary_data.csv', sep=';')"
   ],
   "metadata": {
    "collapsed": false,
    "ExecuteTime": {
     "end_time": "2024-01-26T18:56:00.782024100Z",
     "start_time": "2024-01-26T18:56:00.713588800Z"
    }
   },
   "id": "35ceb2013951cd22"
  },
  {
   "cell_type": "code",
   "execution_count": 3,
   "outputs": [
    {
     "data": {
      "text/plain": "(61069, 21)"
     },
     "execution_count": 3,
     "metadata": {},
     "output_type": "execute_result"
    }
   ],
   "source": [
    "secondary.shape"
   ],
   "metadata": {
    "collapsed": false,
    "ExecuteTime": {
     "end_time": "2024-01-26T18:56:00.797432300Z",
     "start_time": "2024-01-26T18:56:00.785408700Z"
    }
   },
   "id": "b4f6adf2e9e00a85"
  },
  {
   "cell_type": "code",
   "execution_count": 4,
   "outputs": [
    {
     "data": {
      "text/plain": "           family               name class cap-diameter cap-shape Cap-surface  \\\n0  Amanita Family         Fly Agaric     p     [10, 20]    [x, f]      [g, h]   \n1  Amanita Family        Panther Cap     p      [5, 10]    [p, x]         [g]   \n2  Amanita Family  False Panther Cap     p     [10, 15]    [x, f]         NaN   \n3  Amanita Family        The Blusher     e      [5, 15]    [x, f]         NaN   \n4  Amanita Family          Death Cap     p      [5, 12]    [x, f]         [h]   \n\n  cap-color does-bruise-or-bleed gill-attachment gill-spacing  ... stem-root  \\\n0    [e, o]                  [f]             [e]          NaN  ...       [s]   \n1       [n]                  [f]             [e]          NaN  ...       NaN   \n2    [g, n]                  [f]             [e]          NaN  ...       NaN   \n3       [n]                  [t]             NaN          NaN  ...       [b]   \n4       [r]                  [f]             NaN          [c]  ...       NaN   \n\n  stem-surface stem-color veil-type veil-color has-ring ring-type  \\\n0          [y]        [w]       [u]        [w]      [t]    [g, p]   \n1          [y]        [w]       [u]        [w]      [t]       [p]   \n2          NaN        [w]       [u]        [w]      [t]    [e, g]   \n3          NaN        [w]       [u]        [w]      [t]       [g]   \n4          NaN        [w]       [u]        [w]      [t]    [g, p]   \n\n  Spore-print-color habitat     season  \n0               NaN     [d]  [u, a, w]  \n1               NaN     [d]     [u, a]  \n2               NaN     [d]     [u, a]  \n3               NaN     [d]     [u, a]  \n4               NaN     [d]     [u, a]  \n\n[5 rows x 23 columns]",
      "text/html": "<div>\n<style scoped>\n    .dataframe tbody tr th:only-of-type {\n        vertical-align: middle;\n    }\n\n    .dataframe tbody tr th {\n        vertical-align: top;\n    }\n\n    .dataframe thead th {\n        text-align: right;\n    }\n</style>\n<table border=\"1\" class=\"dataframe\">\n  <thead>\n    <tr style=\"text-align: right;\">\n      <th></th>\n      <th>family</th>\n      <th>name</th>\n      <th>class</th>\n      <th>cap-diameter</th>\n      <th>cap-shape</th>\n      <th>Cap-surface</th>\n      <th>cap-color</th>\n      <th>does-bruise-or-bleed</th>\n      <th>gill-attachment</th>\n      <th>gill-spacing</th>\n      <th>...</th>\n      <th>stem-root</th>\n      <th>stem-surface</th>\n      <th>stem-color</th>\n      <th>veil-type</th>\n      <th>veil-color</th>\n      <th>has-ring</th>\n      <th>ring-type</th>\n      <th>Spore-print-color</th>\n      <th>habitat</th>\n      <th>season</th>\n    </tr>\n  </thead>\n  <tbody>\n    <tr>\n      <th>0</th>\n      <td>Amanita Family</td>\n      <td>Fly Agaric</td>\n      <td>p</td>\n      <td>[10, 20]</td>\n      <td>[x, f]</td>\n      <td>[g, h]</td>\n      <td>[e, o]</td>\n      <td>[f]</td>\n      <td>[e]</td>\n      <td>NaN</td>\n      <td>...</td>\n      <td>[s]</td>\n      <td>[y]</td>\n      <td>[w]</td>\n      <td>[u]</td>\n      <td>[w]</td>\n      <td>[t]</td>\n      <td>[g, p]</td>\n      <td>NaN</td>\n      <td>[d]</td>\n      <td>[u, a, w]</td>\n    </tr>\n    <tr>\n      <th>1</th>\n      <td>Amanita Family</td>\n      <td>Panther Cap</td>\n      <td>p</td>\n      <td>[5, 10]</td>\n      <td>[p, x]</td>\n      <td>[g]</td>\n      <td>[n]</td>\n      <td>[f]</td>\n      <td>[e]</td>\n      <td>NaN</td>\n      <td>...</td>\n      <td>NaN</td>\n      <td>[y]</td>\n      <td>[w]</td>\n      <td>[u]</td>\n      <td>[w]</td>\n      <td>[t]</td>\n      <td>[p]</td>\n      <td>NaN</td>\n      <td>[d]</td>\n      <td>[u, a]</td>\n    </tr>\n    <tr>\n      <th>2</th>\n      <td>Amanita Family</td>\n      <td>False Panther Cap</td>\n      <td>p</td>\n      <td>[10, 15]</td>\n      <td>[x, f]</td>\n      <td>NaN</td>\n      <td>[g, n]</td>\n      <td>[f]</td>\n      <td>[e]</td>\n      <td>NaN</td>\n      <td>...</td>\n      <td>NaN</td>\n      <td>NaN</td>\n      <td>[w]</td>\n      <td>[u]</td>\n      <td>[w]</td>\n      <td>[t]</td>\n      <td>[e, g]</td>\n      <td>NaN</td>\n      <td>[d]</td>\n      <td>[u, a]</td>\n    </tr>\n    <tr>\n      <th>3</th>\n      <td>Amanita Family</td>\n      <td>The Blusher</td>\n      <td>e</td>\n      <td>[5, 15]</td>\n      <td>[x, f]</td>\n      <td>NaN</td>\n      <td>[n]</td>\n      <td>[t]</td>\n      <td>NaN</td>\n      <td>NaN</td>\n      <td>...</td>\n      <td>[b]</td>\n      <td>NaN</td>\n      <td>[w]</td>\n      <td>[u]</td>\n      <td>[w]</td>\n      <td>[t]</td>\n      <td>[g]</td>\n      <td>NaN</td>\n      <td>[d]</td>\n      <td>[u, a]</td>\n    </tr>\n    <tr>\n      <th>4</th>\n      <td>Amanita Family</td>\n      <td>Death Cap</td>\n      <td>p</td>\n      <td>[5, 12]</td>\n      <td>[x, f]</td>\n      <td>[h]</td>\n      <td>[r]</td>\n      <td>[f]</td>\n      <td>NaN</td>\n      <td>[c]</td>\n      <td>...</td>\n      <td>NaN</td>\n      <td>NaN</td>\n      <td>[w]</td>\n      <td>[u]</td>\n      <td>[w]</td>\n      <td>[t]</td>\n      <td>[g, p]</td>\n      <td>NaN</td>\n      <td>[d]</td>\n      <td>[u, a]</td>\n    </tr>\n  </tbody>\n</table>\n<p>5 rows × 23 columns</p>\n</div>"
     },
     "execution_count": 4,
     "metadata": {},
     "output_type": "execute_result"
    }
   ],
   "source": [
    "primary.head()"
   ],
   "metadata": {
    "collapsed": false,
    "ExecuteTime": {
     "end_time": "2024-01-26T18:56:00.841948500Z",
     "start_time": "2024-01-26T18:56:00.787924200Z"
    }
   },
   "id": "f368ec892d8ad756"
  },
  {
   "cell_type": "code",
   "execution_count": 5,
   "outputs": [],
   "source": [
    "from sklearn.preprocessing import OneHotEncoder\n",
    "from sklearn.preprocessing import StandardScaler\n",
    "from sklearn.model_selection import train_test_split\n",
    "from sklearn.decomposition import PCA\n",
    "from sklearn.pipeline import Pipeline\n",
    "\n",
    "def process(df):\n",
    "    \n",
    "    \n",
    "    sc = StandardScaler()\n",
    "    ohe = OneHotEncoder(sparse_output=False, drop='if_binary')\n",
    "    pc = PCA()\n",
    "\n",
    "    df_pca = pc.fit_transform(df.select_dtypes(include=(float, int)))\n",
    "    \n",
    "    df_sc = sc.fit_transform(df_pca)\n",
    "    df_sc = pd.DataFrame(df_sc, columns=sc.get_feature_names_out())\n",
    "    \n",
    "    df_ohe = ohe.fit_transform(df.select_dtypes(include=object))\n",
    "    df_ohe = pd.DataFrame(df_ohe, columns=ohe.get_feature_names_out())\n",
    "    \n",
    "    return pd.merge(df_sc, df_ohe, left_index=True, right_index=True)\n",
    "\n",
    "secondary = process(secondary).rename({'class_p': 'class'}, axis=1).drop_duplicates()\n"
   ],
   "metadata": {
    "collapsed": false,
    "ExecuteTime": {
     "end_time": "2024-01-26T18:56:02.162202300Z",
     "start_time": "2024-01-26T18:56:00.808306100Z"
    }
   },
   "id": "9d4f85ae336ba549"
  },
  {
   "cell_type": "code",
   "execution_count": 6,
   "outputs": [],
   "source": [
    "X, y = secondary.drop('class', axis=1), secondary['class']\n",
    "\n",
    "X_train, X_test, y_train, y_test = train_test_split(X, y, test_size=.2)\n",
    "\n",
    "y_train = y_train.replace({'e' : 0, 'p' : 1}).reset_index(drop='index')\n",
    "\n",
    "y_test = y_test.replace({'e' : 0, 'p' : 1}).reset_index(drop='index')\n"
   ],
   "metadata": {
    "collapsed": false,
    "ExecuteTime": {
     "end_time": "2024-01-26T18:56:02.225091Z",
     "start_time": "2024-01-26T18:56:02.163201900Z"
    }
   },
   "id": "6e951c4dc82dcbcd"
  },
  {
   "cell_type": "code",
   "execution_count": 7,
   "outputs": [
    {
     "data": {
      "text/plain": "             x0        x1        x2  cap-shape_b  cap-shape_c  cap-shape_f  \\\n18508  0.043984 -0.576242  0.036241          0.0          0.0          1.0   \n30556  0.581970  0.059791 -0.360494          0.0          0.0          0.0   \n58730  3.702834 -0.851894 -1.897922          0.0          0.0          0.0   \n46464 -0.720608  0.522749  0.311699          0.0          0.0          0.0   \n33016 -1.048627 -0.351459 -0.436360          0.0          0.0          1.0   \n...         ...       ...       ...          ...          ...          ...   \n60421  0.387526 -1.539615 -0.572851          0.0          0.0          0.0   \n59894  0.060924 -1.551987 -0.472903          0.0          0.0          0.0   \n51643  1.954267  0.507247  0.802412          0.0          0.0          0.0   \n16127 -0.314275 -0.151343 -0.668418          0.0          0.0          1.0   \n46751 -0.527698 -0.019615  0.336756          0.0          0.0          0.0   \n\n       cap-shape_o  cap-shape_p  cap-shape_s  cap-shape_x  ...  habitat_h  \\\n18508          0.0          0.0          0.0          0.0  ...        0.0   \n30556          0.0          0.0          1.0          0.0  ...        0.0   \n58730          0.0          0.0          0.0          1.0  ...        0.0   \n46464          0.0          0.0          0.0          1.0  ...        0.0   \n33016          0.0          0.0          0.0          0.0  ...        0.0   \n...            ...          ...          ...          ...  ...        ...   \n60421          1.0          0.0          0.0          0.0  ...        0.0   \n59894          1.0          0.0          0.0          0.0  ...        0.0   \n51643          0.0          0.0          0.0          1.0  ...        0.0   \n16127          0.0          0.0          0.0          0.0  ...        0.0   \n46751          0.0          0.0          0.0          1.0  ...        0.0   \n\n       habitat_l  habitat_m  habitat_p  habitat_u  habitat_w  season_a  \\\n18508        0.0        0.0        0.0        0.0        0.0       1.0   \n30556        0.0        0.0        0.0        0.0        0.0       0.0   \n58730        0.0        0.0        0.0        0.0        0.0       0.0   \n46464        0.0        0.0        0.0        0.0        0.0       1.0   \n33016        0.0        0.0        0.0        0.0        0.0       1.0   \n...          ...        ...        ...        ...        ...       ...   \n60421        1.0        0.0        0.0        0.0        0.0       0.0   \n59894        0.0        0.0        0.0        0.0        0.0       0.0   \n51643        0.0        0.0        0.0        0.0        0.0       0.0   \n16127        0.0        0.0        0.0        0.0        0.0       0.0   \n46751        0.0        0.0        0.0        0.0        0.0       1.0   \n\n       season_s  season_u  season_w  \n18508       0.0       0.0       0.0  \n30556       0.0       1.0       0.0  \n58730       0.0       0.0       1.0  \n46464       0.0       0.0       0.0  \n33016       0.0       0.0       0.0  \n...         ...       ...       ...  \n60421       1.0       0.0       0.0  \n59894       0.0       1.0       0.0  \n51643       0.0       1.0       0.0  \n16127       0.0       1.0       0.0  \n46751       0.0       0.0       0.0  \n\n[48738 rows x 125 columns]",
      "text/html": "<div>\n<style scoped>\n    .dataframe tbody tr th:only-of-type {\n        vertical-align: middle;\n    }\n\n    .dataframe tbody tr th {\n        vertical-align: top;\n    }\n\n    .dataframe thead th {\n        text-align: right;\n    }\n</style>\n<table border=\"1\" class=\"dataframe\">\n  <thead>\n    <tr style=\"text-align: right;\">\n      <th></th>\n      <th>x0</th>\n      <th>x1</th>\n      <th>x2</th>\n      <th>cap-shape_b</th>\n      <th>cap-shape_c</th>\n      <th>cap-shape_f</th>\n      <th>cap-shape_o</th>\n      <th>cap-shape_p</th>\n      <th>cap-shape_s</th>\n      <th>cap-shape_x</th>\n      <th>...</th>\n      <th>habitat_h</th>\n      <th>habitat_l</th>\n      <th>habitat_m</th>\n      <th>habitat_p</th>\n      <th>habitat_u</th>\n      <th>habitat_w</th>\n      <th>season_a</th>\n      <th>season_s</th>\n      <th>season_u</th>\n      <th>season_w</th>\n    </tr>\n  </thead>\n  <tbody>\n    <tr>\n      <th>18508</th>\n      <td>0.043984</td>\n      <td>-0.576242</td>\n      <td>0.036241</td>\n      <td>0.0</td>\n      <td>0.0</td>\n      <td>1.0</td>\n      <td>0.0</td>\n      <td>0.0</td>\n      <td>0.0</td>\n      <td>0.0</td>\n      <td>...</td>\n      <td>0.0</td>\n      <td>0.0</td>\n      <td>0.0</td>\n      <td>0.0</td>\n      <td>0.0</td>\n      <td>0.0</td>\n      <td>1.0</td>\n      <td>0.0</td>\n      <td>0.0</td>\n      <td>0.0</td>\n    </tr>\n    <tr>\n      <th>30556</th>\n      <td>0.581970</td>\n      <td>0.059791</td>\n      <td>-0.360494</td>\n      <td>0.0</td>\n      <td>0.0</td>\n      <td>0.0</td>\n      <td>0.0</td>\n      <td>0.0</td>\n      <td>1.0</td>\n      <td>0.0</td>\n      <td>...</td>\n      <td>0.0</td>\n      <td>0.0</td>\n      <td>0.0</td>\n      <td>0.0</td>\n      <td>0.0</td>\n      <td>0.0</td>\n      <td>0.0</td>\n      <td>0.0</td>\n      <td>1.0</td>\n      <td>0.0</td>\n    </tr>\n    <tr>\n      <th>58730</th>\n      <td>3.702834</td>\n      <td>-0.851894</td>\n      <td>-1.897922</td>\n      <td>0.0</td>\n      <td>0.0</td>\n      <td>0.0</td>\n      <td>0.0</td>\n      <td>0.0</td>\n      <td>0.0</td>\n      <td>1.0</td>\n      <td>...</td>\n      <td>0.0</td>\n      <td>0.0</td>\n      <td>0.0</td>\n      <td>0.0</td>\n      <td>0.0</td>\n      <td>0.0</td>\n      <td>0.0</td>\n      <td>0.0</td>\n      <td>0.0</td>\n      <td>1.0</td>\n    </tr>\n    <tr>\n      <th>46464</th>\n      <td>-0.720608</td>\n      <td>0.522749</td>\n      <td>0.311699</td>\n      <td>0.0</td>\n      <td>0.0</td>\n      <td>0.0</td>\n      <td>0.0</td>\n      <td>0.0</td>\n      <td>0.0</td>\n      <td>1.0</td>\n      <td>...</td>\n      <td>0.0</td>\n      <td>0.0</td>\n      <td>0.0</td>\n      <td>0.0</td>\n      <td>0.0</td>\n      <td>0.0</td>\n      <td>1.0</td>\n      <td>0.0</td>\n      <td>0.0</td>\n      <td>0.0</td>\n    </tr>\n    <tr>\n      <th>33016</th>\n      <td>-1.048627</td>\n      <td>-0.351459</td>\n      <td>-0.436360</td>\n      <td>0.0</td>\n      <td>0.0</td>\n      <td>1.0</td>\n      <td>0.0</td>\n      <td>0.0</td>\n      <td>0.0</td>\n      <td>0.0</td>\n      <td>...</td>\n      <td>0.0</td>\n      <td>0.0</td>\n      <td>0.0</td>\n      <td>0.0</td>\n      <td>0.0</td>\n      <td>0.0</td>\n      <td>1.0</td>\n      <td>0.0</td>\n      <td>0.0</td>\n      <td>0.0</td>\n    </tr>\n    <tr>\n      <th>...</th>\n      <td>...</td>\n      <td>...</td>\n      <td>...</td>\n      <td>...</td>\n      <td>...</td>\n      <td>...</td>\n      <td>...</td>\n      <td>...</td>\n      <td>...</td>\n      <td>...</td>\n      <td>...</td>\n      <td>...</td>\n      <td>...</td>\n      <td>...</td>\n      <td>...</td>\n      <td>...</td>\n      <td>...</td>\n      <td>...</td>\n      <td>...</td>\n      <td>...</td>\n      <td>...</td>\n    </tr>\n    <tr>\n      <th>60421</th>\n      <td>0.387526</td>\n      <td>-1.539615</td>\n      <td>-0.572851</td>\n      <td>0.0</td>\n      <td>0.0</td>\n      <td>0.0</td>\n      <td>1.0</td>\n      <td>0.0</td>\n      <td>0.0</td>\n      <td>0.0</td>\n      <td>...</td>\n      <td>0.0</td>\n      <td>1.0</td>\n      <td>0.0</td>\n      <td>0.0</td>\n      <td>0.0</td>\n      <td>0.0</td>\n      <td>0.0</td>\n      <td>1.0</td>\n      <td>0.0</td>\n      <td>0.0</td>\n    </tr>\n    <tr>\n      <th>59894</th>\n      <td>0.060924</td>\n      <td>-1.551987</td>\n      <td>-0.472903</td>\n      <td>0.0</td>\n      <td>0.0</td>\n      <td>0.0</td>\n      <td>1.0</td>\n      <td>0.0</td>\n      <td>0.0</td>\n      <td>0.0</td>\n      <td>...</td>\n      <td>0.0</td>\n      <td>0.0</td>\n      <td>0.0</td>\n      <td>0.0</td>\n      <td>0.0</td>\n      <td>0.0</td>\n      <td>0.0</td>\n      <td>0.0</td>\n      <td>1.0</td>\n      <td>0.0</td>\n    </tr>\n    <tr>\n      <th>51643</th>\n      <td>1.954267</td>\n      <td>0.507247</td>\n      <td>0.802412</td>\n      <td>0.0</td>\n      <td>0.0</td>\n      <td>0.0</td>\n      <td>0.0</td>\n      <td>0.0</td>\n      <td>0.0</td>\n      <td>1.0</td>\n      <td>...</td>\n      <td>0.0</td>\n      <td>0.0</td>\n      <td>0.0</td>\n      <td>0.0</td>\n      <td>0.0</td>\n      <td>0.0</td>\n      <td>0.0</td>\n      <td>0.0</td>\n      <td>1.0</td>\n      <td>0.0</td>\n    </tr>\n    <tr>\n      <th>16127</th>\n      <td>-0.314275</td>\n      <td>-0.151343</td>\n      <td>-0.668418</td>\n      <td>0.0</td>\n      <td>0.0</td>\n      <td>1.0</td>\n      <td>0.0</td>\n      <td>0.0</td>\n      <td>0.0</td>\n      <td>0.0</td>\n      <td>...</td>\n      <td>0.0</td>\n      <td>0.0</td>\n      <td>0.0</td>\n      <td>0.0</td>\n      <td>0.0</td>\n      <td>0.0</td>\n      <td>0.0</td>\n      <td>0.0</td>\n      <td>1.0</td>\n      <td>0.0</td>\n    </tr>\n    <tr>\n      <th>46751</th>\n      <td>-0.527698</td>\n      <td>-0.019615</td>\n      <td>0.336756</td>\n      <td>0.0</td>\n      <td>0.0</td>\n      <td>0.0</td>\n      <td>0.0</td>\n      <td>0.0</td>\n      <td>0.0</td>\n      <td>1.0</td>\n      <td>...</td>\n      <td>0.0</td>\n      <td>0.0</td>\n      <td>0.0</td>\n      <td>0.0</td>\n      <td>0.0</td>\n      <td>0.0</td>\n      <td>1.0</td>\n      <td>0.0</td>\n      <td>0.0</td>\n      <td>0.0</td>\n    </tr>\n  </tbody>\n</table>\n<p>48738 rows × 125 columns</p>\n</div>"
     },
     "metadata": {},
     "output_type": "display_data"
    },
    {
     "data": {
      "text/plain": "0        1.0\n1        0.0\n2        1.0\n3        0.0\n4        1.0\n        ... \n48733    0.0\n48734    1.0\n48735    0.0\n48736    0.0\n48737    0.0\nName: class, Length: 48738, dtype: float64"
     },
     "metadata": {},
     "output_type": "display_data"
    }
   ],
   "source": [
    "display(X_train)\n",
    "display(y_train)"
   ],
   "metadata": {
    "collapsed": false,
    "ExecuteTime": {
     "end_time": "2024-01-26T18:56:02.251867100Z",
     "start_time": "2024-01-26T18:56:02.227091800Z"
    }
   },
   "id": "728f3fa152052e2"
  },
  {
   "cell_type": "code",
   "execution_count": 8,
   "outputs": [
    {
     "data": {
      "text/plain": "GridSearchCV(cv=5, estimator=RandomForestClassifier(),\n             param_grid={'ccp_alpha': [0, 0.2, 0.6],\n                         'criterion': ['gini', 'entropy', 'log_loss'],\n                         'max_depth': [1, 2, 4, 6],\n                         'max_features': ['sqrt', 'log2'],\n                         'max_leaf_nodes': [2, 4, 6],\n                         'max_samples': [0.1, 0.5, 1],\n                         'n_estimators': [1, 2, 5, 10], 'random_state': [42]})",
      "text/html": "<style>#sk-container-id-1 {color: black;}#sk-container-id-1 pre{padding: 0;}#sk-container-id-1 div.sk-toggleable {background-color: white;}#sk-container-id-1 label.sk-toggleable__label {cursor: pointer;display: block;width: 100%;margin-bottom: 0;padding: 0.3em;box-sizing: border-box;text-align: center;}#sk-container-id-1 label.sk-toggleable__label-arrow:before {content: \"▸\";float: left;margin-right: 0.25em;color: #696969;}#sk-container-id-1 label.sk-toggleable__label-arrow:hover:before {color: black;}#sk-container-id-1 div.sk-estimator:hover label.sk-toggleable__label-arrow:before {color: black;}#sk-container-id-1 div.sk-toggleable__content {max-height: 0;max-width: 0;overflow: hidden;text-align: left;background-color: #f0f8ff;}#sk-container-id-1 div.sk-toggleable__content pre {margin: 0.2em;color: black;border-radius: 0.25em;background-color: #f0f8ff;}#sk-container-id-1 input.sk-toggleable__control:checked~div.sk-toggleable__content {max-height: 200px;max-width: 100%;overflow: auto;}#sk-container-id-1 input.sk-toggleable__control:checked~label.sk-toggleable__label-arrow:before {content: \"▾\";}#sk-container-id-1 div.sk-estimator input.sk-toggleable__control:checked~label.sk-toggleable__label {background-color: #d4ebff;}#sk-container-id-1 div.sk-label input.sk-toggleable__control:checked~label.sk-toggleable__label {background-color: #d4ebff;}#sk-container-id-1 input.sk-hidden--visually {border: 0;clip: rect(1px 1px 1px 1px);clip: rect(1px, 1px, 1px, 1px);height: 1px;margin: -1px;overflow: hidden;padding: 0;position: absolute;width: 1px;}#sk-container-id-1 div.sk-estimator {font-family: monospace;background-color: #f0f8ff;border: 1px dotted black;border-radius: 0.25em;box-sizing: border-box;margin-bottom: 0.5em;}#sk-container-id-1 div.sk-estimator:hover {background-color: #d4ebff;}#sk-container-id-1 div.sk-parallel-item::after {content: \"\";width: 100%;border-bottom: 1px solid gray;flex-grow: 1;}#sk-container-id-1 div.sk-label:hover label.sk-toggleable__label {background-color: #d4ebff;}#sk-container-id-1 div.sk-serial::before {content: \"\";position: absolute;border-left: 1px solid gray;box-sizing: border-box;top: 0;bottom: 0;left: 50%;z-index: 0;}#sk-container-id-1 div.sk-serial {display: flex;flex-direction: column;align-items: center;background-color: white;padding-right: 0.2em;padding-left: 0.2em;position: relative;}#sk-container-id-1 div.sk-item {position: relative;z-index: 1;}#sk-container-id-1 div.sk-parallel {display: flex;align-items: stretch;justify-content: center;background-color: white;position: relative;}#sk-container-id-1 div.sk-item::before, #sk-container-id-1 div.sk-parallel-item::before {content: \"\";position: absolute;border-left: 1px solid gray;box-sizing: border-box;top: 0;bottom: 0;left: 50%;z-index: -1;}#sk-container-id-1 div.sk-parallel-item {display: flex;flex-direction: column;z-index: 1;position: relative;background-color: white;}#sk-container-id-1 div.sk-parallel-item:first-child::after {align-self: flex-end;width: 50%;}#sk-container-id-1 div.sk-parallel-item:last-child::after {align-self: flex-start;width: 50%;}#sk-container-id-1 div.sk-parallel-item:only-child::after {width: 0;}#sk-container-id-1 div.sk-dashed-wrapped {border: 1px dashed gray;margin: 0 0.4em 0.5em 0.4em;box-sizing: border-box;padding-bottom: 0.4em;background-color: white;}#sk-container-id-1 div.sk-label label {font-family: monospace;font-weight: bold;display: inline-block;line-height: 1.2em;}#sk-container-id-1 div.sk-label-container {text-align: center;}#sk-container-id-1 div.sk-container {/* jupyter's `normalize.less` sets `[hidden] { display: none; }` but bootstrap.min.css set `[hidden] { display: none !important; }` so we also need the `!important` here to be able to override the default hidden behavior on the sphinx rendered scikit-learn.org. See: https://github.com/scikit-learn/scikit-learn/issues/21755 */display: inline-block !important;position: relative;}#sk-container-id-1 div.sk-text-repr-fallback {display: none;}</style><div id=\"sk-container-id-1\" class=\"sk-top-container\"><div class=\"sk-text-repr-fallback\"><pre>GridSearchCV(cv=5, estimator=RandomForestClassifier(),\n             param_grid={&#x27;ccp_alpha&#x27;: [0, 0.2, 0.6],\n                         &#x27;criterion&#x27;: [&#x27;gini&#x27;, &#x27;entropy&#x27;, &#x27;log_loss&#x27;],\n                         &#x27;max_depth&#x27;: [1, 2, 4, 6],\n                         &#x27;max_features&#x27;: [&#x27;sqrt&#x27;, &#x27;log2&#x27;],\n                         &#x27;max_leaf_nodes&#x27;: [2, 4, 6],\n                         &#x27;max_samples&#x27;: [0.1, 0.5, 1],\n                         &#x27;n_estimators&#x27;: [1, 2, 5, 10], &#x27;random_state&#x27;: [42]})</pre><b>In a Jupyter environment, please rerun this cell to show the HTML representation or trust the notebook. <br />On GitHub, the HTML representation is unable to render, please try loading this page with nbviewer.org.</b></div><div class=\"sk-container\" hidden><div class=\"sk-item sk-dashed-wrapped\"><div class=\"sk-label-container\"><div class=\"sk-label sk-toggleable\"><input class=\"sk-toggleable__control sk-hidden--visually\" id=\"sk-estimator-id-1\" type=\"checkbox\" ><label for=\"sk-estimator-id-1\" class=\"sk-toggleable__label sk-toggleable__label-arrow\">GridSearchCV</label><div class=\"sk-toggleable__content\"><pre>GridSearchCV(cv=5, estimator=RandomForestClassifier(),\n             param_grid={&#x27;ccp_alpha&#x27;: [0, 0.2, 0.6],\n                         &#x27;criterion&#x27;: [&#x27;gini&#x27;, &#x27;entropy&#x27;, &#x27;log_loss&#x27;],\n                         &#x27;max_depth&#x27;: [1, 2, 4, 6],\n                         &#x27;max_features&#x27;: [&#x27;sqrt&#x27;, &#x27;log2&#x27;],\n                         &#x27;max_leaf_nodes&#x27;: [2, 4, 6],\n                         &#x27;max_samples&#x27;: [0.1, 0.5, 1],\n                         &#x27;n_estimators&#x27;: [1, 2, 5, 10], &#x27;random_state&#x27;: [42]})</pre></div></div></div><div class=\"sk-parallel\"><div class=\"sk-parallel-item\"><div class=\"sk-item\"><div class=\"sk-label-container\"><div class=\"sk-label sk-toggleable\"><input class=\"sk-toggleable__control sk-hidden--visually\" id=\"sk-estimator-id-2\" type=\"checkbox\" ><label for=\"sk-estimator-id-2\" class=\"sk-toggleable__label sk-toggleable__label-arrow\">estimator: RandomForestClassifier</label><div class=\"sk-toggleable__content\"><pre>RandomForestClassifier()</pre></div></div></div><div class=\"sk-serial\"><div class=\"sk-item\"><div class=\"sk-estimator sk-toggleable\"><input class=\"sk-toggleable__control sk-hidden--visually\" id=\"sk-estimator-id-3\" type=\"checkbox\" ><label for=\"sk-estimator-id-3\" class=\"sk-toggleable__label sk-toggleable__label-arrow\">RandomForestClassifier</label><div class=\"sk-toggleable__content\"><pre>RandomForestClassifier()</pre></div></div></div></div></div></div></div></div></div></div>"
     },
     "execution_count": 8,
     "metadata": {},
     "output_type": "execute_result"
    }
   ],
   "source": [
    "from sklearn.ensemble import RandomForestClassifier\n",
    "from sklearn.metrics import accuracy_score\n",
    "from sklearn.metrics import classification_report\n",
    "from sklearn.model_selection import GridSearchCV\n",
    "\n",
    "model = RandomForestClassifier()\n",
    "\n",
    "param_grid = {\n",
    "    'n_estimators': [1, 2, 5, 10],\n",
    "    'criterion': ['gini', 'entropy', 'log_loss'],\n",
    "    'max_depth': [1, 2, 4, 6],\n",
    "    'max_features' : ['sqrt', 'log2'],\n",
    "    'max_leaf_nodes': [2,4,6],\n",
    "    'ccp_alpha': [0,.2,.6],\n",
    "    'max_samples': [.1,.5,1],\n",
    "    'random_state': [42]\n",
    "}\n",
    "\n",
    "grid_rf = GridSearchCV(model, param_grid, cv= 5)\n",
    "\n",
    "grid_rf.fit(X_train, y_train)\n"
   ],
   "metadata": {
    "collapsed": false,
    "ExecuteTime": {
     "end_time": "2024-01-26T19:08:48.540331100Z",
     "start_time": "2024-01-26T18:56:02.250862900Z"
    }
   },
   "id": "d0ffc2eef8b9602f"
  },
  {
   "cell_type": "code",
   "execution_count": 9,
   "outputs": [
    {
     "name": "stdout",
     "output_type": "stream",
     "text": [
      "Accuracy: <function accuracy_score at 0x00000204D8031260>\n",
      "Classification Report:\n",
      "              precision    recall  f1-score   support\n",
      "\n",
      "         0.0       0.84      0.51      0.64      5485\n",
      "         1.0       0.70      0.92      0.79      6700\n",
      "\n",
      "    accuracy                           0.74     12185\n",
      "   macro avg       0.77      0.72      0.72     12185\n",
      "weighted avg       0.76      0.74      0.72     12185\n",
      "\n"
     ]
    }
   ],
   "source": [
    "pred = grid_rf.predict(X_test)\n",
    "\n",
    "accuracy_score(y_test, pred)\n",
    "test_report = classification_report(y_test\n",
    "                                    , pred)\n",
    "print(f\"Accuracy: {accuracy_score}\\nClassification Report:\\n{test_report}\\n\")"
   ],
   "metadata": {
    "collapsed": false,
    "ExecuteTime": {
     "end_time": "2024-01-26T19:08:48.580140300Z",
     "start_time": "2024-01-26T19:08:48.543330900Z"
    }
   },
   "id": "1bbe855868b20b49"
  },
  {
   "cell_type": "code",
   "execution_count": 10,
   "outputs": [
    {
     "data": {
      "text/plain": "RandomForestClassifier(ccp_alpha=0, max_depth=6, max_leaf_nodes=6,\n                       max_samples=0.5, n_estimators=10, random_state=42)",
      "text/html": "<style>#sk-container-id-2 {color: black;}#sk-container-id-2 pre{padding: 0;}#sk-container-id-2 div.sk-toggleable {background-color: white;}#sk-container-id-2 label.sk-toggleable__label {cursor: pointer;display: block;width: 100%;margin-bottom: 0;padding: 0.3em;box-sizing: border-box;text-align: center;}#sk-container-id-2 label.sk-toggleable__label-arrow:before {content: \"▸\";float: left;margin-right: 0.25em;color: #696969;}#sk-container-id-2 label.sk-toggleable__label-arrow:hover:before {color: black;}#sk-container-id-2 div.sk-estimator:hover label.sk-toggleable__label-arrow:before {color: black;}#sk-container-id-2 div.sk-toggleable__content {max-height: 0;max-width: 0;overflow: hidden;text-align: left;background-color: #f0f8ff;}#sk-container-id-2 div.sk-toggleable__content pre {margin: 0.2em;color: black;border-radius: 0.25em;background-color: #f0f8ff;}#sk-container-id-2 input.sk-toggleable__control:checked~div.sk-toggleable__content {max-height: 200px;max-width: 100%;overflow: auto;}#sk-container-id-2 input.sk-toggleable__control:checked~label.sk-toggleable__label-arrow:before {content: \"▾\";}#sk-container-id-2 div.sk-estimator input.sk-toggleable__control:checked~label.sk-toggleable__label {background-color: #d4ebff;}#sk-container-id-2 div.sk-label input.sk-toggleable__control:checked~label.sk-toggleable__label {background-color: #d4ebff;}#sk-container-id-2 input.sk-hidden--visually {border: 0;clip: rect(1px 1px 1px 1px);clip: rect(1px, 1px, 1px, 1px);height: 1px;margin: -1px;overflow: hidden;padding: 0;position: absolute;width: 1px;}#sk-container-id-2 div.sk-estimator {font-family: monospace;background-color: #f0f8ff;border: 1px dotted black;border-radius: 0.25em;box-sizing: border-box;margin-bottom: 0.5em;}#sk-container-id-2 div.sk-estimator:hover {background-color: #d4ebff;}#sk-container-id-2 div.sk-parallel-item::after {content: \"\";width: 100%;border-bottom: 1px solid gray;flex-grow: 1;}#sk-container-id-2 div.sk-label:hover label.sk-toggleable__label {background-color: #d4ebff;}#sk-container-id-2 div.sk-serial::before {content: \"\";position: absolute;border-left: 1px solid gray;box-sizing: border-box;top: 0;bottom: 0;left: 50%;z-index: 0;}#sk-container-id-2 div.sk-serial {display: flex;flex-direction: column;align-items: center;background-color: white;padding-right: 0.2em;padding-left: 0.2em;position: relative;}#sk-container-id-2 div.sk-item {position: relative;z-index: 1;}#sk-container-id-2 div.sk-parallel {display: flex;align-items: stretch;justify-content: center;background-color: white;position: relative;}#sk-container-id-2 div.sk-item::before, #sk-container-id-2 div.sk-parallel-item::before {content: \"\";position: absolute;border-left: 1px solid gray;box-sizing: border-box;top: 0;bottom: 0;left: 50%;z-index: -1;}#sk-container-id-2 div.sk-parallel-item {display: flex;flex-direction: column;z-index: 1;position: relative;background-color: white;}#sk-container-id-2 div.sk-parallel-item:first-child::after {align-self: flex-end;width: 50%;}#sk-container-id-2 div.sk-parallel-item:last-child::after {align-self: flex-start;width: 50%;}#sk-container-id-2 div.sk-parallel-item:only-child::after {width: 0;}#sk-container-id-2 div.sk-dashed-wrapped {border: 1px dashed gray;margin: 0 0.4em 0.5em 0.4em;box-sizing: border-box;padding-bottom: 0.4em;background-color: white;}#sk-container-id-2 div.sk-label label {font-family: monospace;font-weight: bold;display: inline-block;line-height: 1.2em;}#sk-container-id-2 div.sk-label-container {text-align: center;}#sk-container-id-2 div.sk-container {/* jupyter's `normalize.less` sets `[hidden] { display: none; }` but bootstrap.min.css set `[hidden] { display: none !important; }` so we also need the `!important` here to be able to override the default hidden behavior on the sphinx rendered scikit-learn.org. See: https://github.com/scikit-learn/scikit-learn/issues/21755 */display: inline-block !important;position: relative;}#sk-container-id-2 div.sk-text-repr-fallback {display: none;}</style><div id=\"sk-container-id-2\" class=\"sk-top-container\"><div class=\"sk-text-repr-fallback\"><pre>RandomForestClassifier(ccp_alpha=0, max_depth=6, max_leaf_nodes=6,\n                       max_samples=0.5, n_estimators=10, random_state=42)</pre><b>In a Jupyter environment, please rerun this cell to show the HTML representation or trust the notebook. <br />On GitHub, the HTML representation is unable to render, please try loading this page with nbviewer.org.</b></div><div class=\"sk-container\" hidden><div class=\"sk-item\"><div class=\"sk-estimator sk-toggleable\"><input class=\"sk-toggleable__control sk-hidden--visually\" id=\"sk-estimator-id-4\" type=\"checkbox\" checked><label for=\"sk-estimator-id-4\" class=\"sk-toggleable__label sk-toggleable__label-arrow\">RandomForestClassifier</label><div class=\"sk-toggleable__content\"><pre>RandomForestClassifier(ccp_alpha=0, max_depth=6, max_leaf_nodes=6,\n                       max_samples=0.5, n_estimators=10, random_state=42)</pre></div></div></div></div></div>"
     },
     "execution_count": 10,
     "metadata": {},
     "output_type": "execute_result"
    }
   ],
   "source": [
    "grid_rf.best_estimator_"
   ],
   "metadata": {
    "collapsed": false,
    "ExecuteTime": {
     "end_time": "2024-01-26T19:08:48.581140300Z",
     "start_time": "2024-01-26T19:08:48.574009400Z"
    }
   },
   "id": "5398f1c4f8516d7b"
  },
  {
   "cell_type": "code",
   "execution_count": 11,
   "outputs": [
    {
     "data": {
      "text/plain": "     importance            columns\n0      0.110073                 x0\n3      0.089988        cap-shape_b\n39     0.085775  gill-attachment_p\n15     0.068732      cap-surface_k\n57     0.056998       gill-color_w\n..          ...                ...\n47     0.000000       gill-color_b\n46     0.000000   gill-spacing_nan\n45     0.000000     gill-spacing_f\n43     0.000000     gill-spacing_c\n124    0.000000           season_w\n\n[125 rows x 2 columns]",
      "text/html": "<div>\n<style scoped>\n    .dataframe tbody tr th:only-of-type {\n        vertical-align: middle;\n    }\n\n    .dataframe tbody tr th {\n        vertical-align: top;\n    }\n\n    .dataframe thead th {\n        text-align: right;\n    }\n</style>\n<table border=\"1\" class=\"dataframe\">\n  <thead>\n    <tr style=\"text-align: right;\">\n      <th></th>\n      <th>importance</th>\n      <th>columns</th>\n    </tr>\n  </thead>\n  <tbody>\n    <tr>\n      <th>0</th>\n      <td>0.110073</td>\n      <td>x0</td>\n    </tr>\n    <tr>\n      <th>3</th>\n      <td>0.089988</td>\n      <td>cap-shape_b</td>\n    </tr>\n    <tr>\n      <th>39</th>\n      <td>0.085775</td>\n      <td>gill-attachment_p</td>\n    </tr>\n    <tr>\n      <th>15</th>\n      <td>0.068732</td>\n      <td>cap-surface_k</td>\n    </tr>\n    <tr>\n      <th>57</th>\n      <td>0.056998</td>\n      <td>gill-color_w</td>\n    </tr>\n    <tr>\n      <th>...</th>\n      <td>...</td>\n      <td>...</td>\n    </tr>\n    <tr>\n      <th>47</th>\n      <td>0.000000</td>\n      <td>gill-color_b</td>\n    </tr>\n    <tr>\n      <th>46</th>\n      <td>0.000000</td>\n      <td>gill-spacing_nan</td>\n    </tr>\n    <tr>\n      <th>45</th>\n      <td>0.000000</td>\n      <td>gill-spacing_f</td>\n    </tr>\n    <tr>\n      <th>43</th>\n      <td>0.000000</td>\n      <td>gill-spacing_c</td>\n    </tr>\n    <tr>\n      <th>124</th>\n      <td>0.000000</td>\n      <td>season_w</td>\n    </tr>\n  </tbody>\n</table>\n<p>125 rows × 2 columns</p>\n</div>"
     },
     "execution_count": 11,
     "metadata": {},
     "output_type": "execute_result"
    }
   ],
   "source": [
    "analysis_rf = pd.DataFrame(grid_rf.best_estimator_.feature_importances_).rename({0 : 'importance'}, axis=1)\n",
    "analysis_rf.loc[:, 'columns'] = X_train.columns\n",
    "analysis_rf.sort_values('importance', ascending=False)"
   ],
   "metadata": {
    "collapsed": false,
    "ExecuteTime": {
     "end_time": "2024-01-26T19:08:48.590163100Z",
     "start_time": "2024-01-26T19:08:48.578136100Z"
    }
   },
   "id": "1fb932a8f0a2dd62"
  },
  {
   "cell_type": "code",
   "execution_count": 12,
   "outputs": [],
   "source": [
    "from sklearn.neural_network import MLPClassifier\n",
    "\n",
    "model2 = MLPClassifier(hidden_layer_sizes=(10,),\n",
    "                       activation = \"logistic\",\n",
    "                       max_iter=200,\n",
    "                       solver='lbfgs',\n",
    "                       verbose=1,\n",
    "                       random_state=42,\n",
    "                       )\n",
    "model2.fit(X_train, y_train)\n",
    "\n",
    "pred = model2.predict(X_test)"
   ],
   "metadata": {
    "collapsed": false,
    "ExecuteTime": {
     "end_time": "2024-01-26T19:10:44.693914Z",
     "start_time": "2024-01-26T19:10:43.034615200Z"
    }
   },
   "id": "5bc79ec842fb51c6"
  },
  {
   "cell_type": "code",
   "execution_count": 13,
   "outputs": [
    {
     "name": "stdout",
     "output_type": "stream",
     "text": [
      "Accuracy: 0.9936807550266722\n",
      "Classification Report:\n",
      "              precision    recall  f1-score   support\n",
      "\n",
      "         0.0       1.00      0.99      0.99      5485\n",
      "         1.0       0.99      1.00      0.99      6700\n",
      "\n",
      "    accuracy                           0.99     12185\n",
      "   macro avg       0.99      0.99      0.99     12185\n",
      "weighted avg       0.99      0.99      0.99     12185\n"
     ]
    }
   ],
   "source": [
    "accuracy = accuracy_score(y_test, pred)\n",
    "test_report = classification_report(y_test, pred)\n",
    "print(f\"Accuracy: {accuracy}\\nClassification Report:\\n{test_report}\\n\")"
   ],
   "metadata": {
    "collapsed": false,
    "ExecuteTime": {
     "end_time": "2024-01-26T19:10:44.718467700Z",
     "start_time": "2024-01-26T19:10:44.694914900Z"
    }
   },
   "id": "3838e22fb6303496"
  },
  {
   "cell_type": "code",
   "execution_count": 14,
   "outputs": [],
   "source": [
    "from sklearn.linear_model import LogisticRegression\n",
    "\n",
    "model_3 = LogisticRegression(max_iter=10000, random_state=42)\n",
    "\n",
    "model_3.fit(X_train, y_train)\n",
    "\n",
    "pred = model_3.predict(X_test)"
   ],
   "metadata": {
    "collapsed": false,
    "ExecuteTime": {
     "end_time": "2024-01-26T19:10:46.477459700Z",
     "start_time": "2024-01-26T19:10:44.714442Z"
    }
   },
   "id": "c4e374bb0e422c11"
  },
  {
   "cell_type": "code",
   "execution_count": 15,
   "outputs": [
    {
     "name": "stdout",
     "output_type": "stream",
     "text": [
      "Accuracy: 0.8657365613459171\n",
      "Classification Report:\n",
      "              precision    recall  f1-score   support\n",
      "\n",
      "         0.0       0.85      0.86      0.85      5485\n",
      "         1.0       0.88      0.87      0.88      6700\n",
      "\n",
      "    accuracy                           0.87     12185\n",
      "   macro avg       0.86      0.86      0.86     12185\n",
      "weighted avg       0.87      0.87      0.87     12185\n"
     ]
    }
   ],
   "source": [
    "accuracy = accuracy_score(y_test, pred)\n",
    "test_report = classification_report(y_test, pred)\n",
    "print(f\"Accuracy: {accuracy}\\nClassification Report:\\n{test_report}\\n\")"
   ],
   "metadata": {
    "collapsed": false,
    "ExecuteTime": {
     "end_time": "2024-01-26T19:10:46.496020100Z",
     "start_time": "2024-01-26T19:10:46.478466300Z"
    }
   },
   "id": "be0afb61bf0130b9"
  },
  {
   "cell_type": "code",
   "execution_count": 16,
   "outputs": [
    {
     "data": {
      "text/plain": "GridSearchCV(cv=5,\n             estimator=LogisticRegression(max_iter=10000, random_state=42),\n             param_grid={'penalty': ['l2'], 'solver': ['lbfgs', 'liblinear']},\n             scoring='accuracy')",
      "text/html": "<style>#sk-container-id-3 {color: black;}#sk-container-id-3 pre{padding: 0;}#sk-container-id-3 div.sk-toggleable {background-color: white;}#sk-container-id-3 label.sk-toggleable__label {cursor: pointer;display: block;width: 100%;margin-bottom: 0;padding: 0.3em;box-sizing: border-box;text-align: center;}#sk-container-id-3 label.sk-toggleable__label-arrow:before {content: \"▸\";float: left;margin-right: 0.25em;color: #696969;}#sk-container-id-3 label.sk-toggleable__label-arrow:hover:before {color: black;}#sk-container-id-3 div.sk-estimator:hover label.sk-toggleable__label-arrow:before {color: black;}#sk-container-id-3 div.sk-toggleable__content {max-height: 0;max-width: 0;overflow: hidden;text-align: left;background-color: #f0f8ff;}#sk-container-id-3 div.sk-toggleable__content pre {margin: 0.2em;color: black;border-radius: 0.25em;background-color: #f0f8ff;}#sk-container-id-3 input.sk-toggleable__control:checked~div.sk-toggleable__content {max-height: 200px;max-width: 100%;overflow: auto;}#sk-container-id-3 input.sk-toggleable__control:checked~label.sk-toggleable__label-arrow:before {content: \"▾\";}#sk-container-id-3 div.sk-estimator input.sk-toggleable__control:checked~label.sk-toggleable__label {background-color: #d4ebff;}#sk-container-id-3 div.sk-label input.sk-toggleable__control:checked~label.sk-toggleable__label {background-color: #d4ebff;}#sk-container-id-3 input.sk-hidden--visually {border: 0;clip: rect(1px 1px 1px 1px);clip: rect(1px, 1px, 1px, 1px);height: 1px;margin: -1px;overflow: hidden;padding: 0;position: absolute;width: 1px;}#sk-container-id-3 div.sk-estimator {font-family: monospace;background-color: #f0f8ff;border: 1px dotted black;border-radius: 0.25em;box-sizing: border-box;margin-bottom: 0.5em;}#sk-container-id-3 div.sk-estimator:hover {background-color: #d4ebff;}#sk-container-id-3 div.sk-parallel-item::after {content: \"\";width: 100%;border-bottom: 1px solid gray;flex-grow: 1;}#sk-container-id-3 div.sk-label:hover label.sk-toggleable__label {background-color: #d4ebff;}#sk-container-id-3 div.sk-serial::before {content: \"\";position: absolute;border-left: 1px solid gray;box-sizing: border-box;top: 0;bottom: 0;left: 50%;z-index: 0;}#sk-container-id-3 div.sk-serial {display: flex;flex-direction: column;align-items: center;background-color: white;padding-right: 0.2em;padding-left: 0.2em;position: relative;}#sk-container-id-3 div.sk-item {position: relative;z-index: 1;}#sk-container-id-3 div.sk-parallel {display: flex;align-items: stretch;justify-content: center;background-color: white;position: relative;}#sk-container-id-3 div.sk-item::before, #sk-container-id-3 div.sk-parallel-item::before {content: \"\";position: absolute;border-left: 1px solid gray;box-sizing: border-box;top: 0;bottom: 0;left: 50%;z-index: -1;}#sk-container-id-3 div.sk-parallel-item {display: flex;flex-direction: column;z-index: 1;position: relative;background-color: white;}#sk-container-id-3 div.sk-parallel-item:first-child::after {align-self: flex-end;width: 50%;}#sk-container-id-3 div.sk-parallel-item:last-child::after {align-self: flex-start;width: 50%;}#sk-container-id-3 div.sk-parallel-item:only-child::after {width: 0;}#sk-container-id-3 div.sk-dashed-wrapped {border: 1px dashed gray;margin: 0 0.4em 0.5em 0.4em;box-sizing: border-box;padding-bottom: 0.4em;background-color: white;}#sk-container-id-3 div.sk-label label {font-family: monospace;font-weight: bold;display: inline-block;line-height: 1.2em;}#sk-container-id-3 div.sk-label-container {text-align: center;}#sk-container-id-3 div.sk-container {/* jupyter's `normalize.less` sets `[hidden] { display: none; }` but bootstrap.min.css set `[hidden] { display: none !important; }` so we also need the `!important` here to be able to override the default hidden behavior on the sphinx rendered scikit-learn.org. See: https://github.com/scikit-learn/scikit-learn/issues/21755 */display: inline-block !important;position: relative;}#sk-container-id-3 div.sk-text-repr-fallback {display: none;}</style><div id=\"sk-container-id-3\" class=\"sk-top-container\"><div class=\"sk-text-repr-fallback\"><pre>GridSearchCV(cv=5,\n             estimator=LogisticRegression(max_iter=10000, random_state=42),\n             param_grid={&#x27;penalty&#x27;: [&#x27;l2&#x27;], &#x27;solver&#x27;: [&#x27;lbfgs&#x27;, &#x27;liblinear&#x27;]},\n             scoring=&#x27;accuracy&#x27;)</pre><b>In a Jupyter environment, please rerun this cell to show the HTML representation or trust the notebook. <br />On GitHub, the HTML representation is unable to render, please try loading this page with nbviewer.org.</b></div><div class=\"sk-container\" hidden><div class=\"sk-item sk-dashed-wrapped\"><div class=\"sk-label-container\"><div class=\"sk-label sk-toggleable\"><input class=\"sk-toggleable__control sk-hidden--visually\" id=\"sk-estimator-id-5\" type=\"checkbox\" ><label for=\"sk-estimator-id-5\" class=\"sk-toggleable__label sk-toggleable__label-arrow\">GridSearchCV</label><div class=\"sk-toggleable__content\"><pre>GridSearchCV(cv=5,\n             estimator=LogisticRegression(max_iter=10000, random_state=42),\n             param_grid={&#x27;penalty&#x27;: [&#x27;l2&#x27;], &#x27;solver&#x27;: [&#x27;lbfgs&#x27;, &#x27;liblinear&#x27;]},\n             scoring=&#x27;accuracy&#x27;)</pre></div></div></div><div class=\"sk-parallel\"><div class=\"sk-parallel-item\"><div class=\"sk-item\"><div class=\"sk-label-container\"><div class=\"sk-label sk-toggleable\"><input class=\"sk-toggleable__control sk-hidden--visually\" id=\"sk-estimator-id-6\" type=\"checkbox\" ><label for=\"sk-estimator-id-6\" class=\"sk-toggleable__label sk-toggleable__label-arrow\">estimator: LogisticRegression</label><div class=\"sk-toggleable__content\"><pre>LogisticRegression(max_iter=10000, random_state=42)</pre></div></div></div><div class=\"sk-serial\"><div class=\"sk-item\"><div class=\"sk-estimator sk-toggleable\"><input class=\"sk-toggleable__control sk-hidden--visually\" id=\"sk-estimator-id-7\" type=\"checkbox\" ><label for=\"sk-estimator-id-7\" class=\"sk-toggleable__label sk-toggleable__label-arrow\">LogisticRegression</label><div class=\"sk-toggleable__content\"><pre>LogisticRegression(max_iter=10000, random_state=42)</pre></div></div></div></div></div></div></div></div></div></div>"
     },
     "execution_count": 16,
     "metadata": {},
     "output_type": "execute_result"
    }
   ],
   "source": [
    "from sklearn.model_selection import GridSearchCV\n",
    "\n",
    "num_feature = len(X_train.columns)\n",
    "\n",
    "grid_values = {'penalty' : ['l2'],\n",
    "               'solver' : ['lbfgs', 'liblinear']}\n",
    "\n",
    "lr_cv = GridSearchCV(model_3, param_grid=grid_values, scoring='accuracy', cv=5)\n",
    "lr_cv.fit(X_train, y_train)"
   ],
   "metadata": {
    "collapsed": false,
    "ExecuteTime": {
     "end_time": "2024-01-26T19:11:00.432025100Z",
     "start_time": "2024-01-26T19:10:49.975732700Z"
    }
   },
   "id": "4c17ad3b06c5429f"
  },
  {
   "cell_type": "code",
   "execution_count": 17,
   "outputs": [
    {
     "name": "stdout",
     "output_type": "stream",
     "text": [
      "Accuracy: 0.8657365613459171\n",
      "Classification Report:\n",
      "              precision    recall  f1-score   support\n",
      "\n",
      "         0.0       0.85      0.86      0.85      5485\n",
      "         1.0       0.88      0.87      0.88      6700\n",
      "\n",
      "    accuracy                           0.87     12185\n",
      "   macro avg       0.86      0.86      0.86     12185\n",
      "weighted avg       0.87      0.87      0.87     12185\n"
     ]
    }
   ],
   "source": [
    "pred = lr_cv.predict(X_test)\n",
    "\n",
    "accuracy = accuracy_score(y_test, pred)\n",
    "test_report = classification_report(y_test, pred)\n",
    "print(f\"Accuracy: {accuracy}\\nClassification Report:\\n{test_report}\\n\")"
   ],
   "metadata": {
    "collapsed": false,
    "ExecuteTime": {
     "end_time": "2024-01-26T19:11:39.984865100Z",
     "start_time": "2024-01-26T19:11:39.962377300Z"
    }
   },
   "id": "6b9b53ba795e4237"
  },
  {
   "cell_type": "code",
   "execution_count": 18,
   "outputs": [
    {
     "data": {
      "text/plain": "'lbfgs'"
     },
     "execution_count": 18,
     "metadata": {},
     "output_type": "execute_result"
    }
   ],
   "source": [
    "lr_best = lr_cv.best_estimator_\n",
    "lr_best.solver"
   ],
   "metadata": {
    "collapsed": false,
    "ExecuteTime": {
     "end_time": "2024-01-26T19:11:42.142913600Z",
     "start_time": "2024-01-26T19:11:42.139406200Z"
    }
   },
   "id": "8870a9038f4cf5f9"
  },
  {
   "cell_type": "code",
   "execution_count": 21,
   "outputs": [
    {
     "data": {
      "text/plain": "GridSearchCV(cv=5, estimator=RandomForestClassifier(random_state=42),\n             param_grid={'max_features': ['sqrt', 'log2']}, scoring='accuracy')",
      "text/html": "<style>#sk-container-id-4 {color: black;}#sk-container-id-4 pre{padding: 0;}#sk-container-id-4 div.sk-toggleable {background-color: white;}#sk-container-id-4 label.sk-toggleable__label {cursor: pointer;display: block;width: 100%;margin-bottom: 0;padding: 0.3em;box-sizing: border-box;text-align: center;}#sk-container-id-4 label.sk-toggleable__label-arrow:before {content: \"▸\";float: left;margin-right: 0.25em;color: #696969;}#sk-container-id-4 label.sk-toggleable__label-arrow:hover:before {color: black;}#sk-container-id-4 div.sk-estimator:hover label.sk-toggleable__label-arrow:before {color: black;}#sk-container-id-4 div.sk-toggleable__content {max-height: 0;max-width: 0;overflow: hidden;text-align: left;background-color: #f0f8ff;}#sk-container-id-4 div.sk-toggleable__content pre {margin: 0.2em;color: black;border-radius: 0.25em;background-color: #f0f8ff;}#sk-container-id-4 input.sk-toggleable__control:checked~div.sk-toggleable__content {max-height: 200px;max-width: 100%;overflow: auto;}#sk-container-id-4 input.sk-toggleable__control:checked~label.sk-toggleable__label-arrow:before {content: \"▾\";}#sk-container-id-4 div.sk-estimator input.sk-toggleable__control:checked~label.sk-toggleable__label {background-color: #d4ebff;}#sk-container-id-4 div.sk-label input.sk-toggleable__control:checked~label.sk-toggleable__label {background-color: #d4ebff;}#sk-container-id-4 input.sk-hidden--visually {border: 0;clip: rect(1px 1px 1px 1px);clip: rect(1px, 1px, 1px, 1px);height: 1px;margin: -1px;overflow: hidden;padding: 0;position: absolute;width: 1px;}#sk-container-id-4 div.sk-estimator {font-family: monospace;background-color: #f0f8ff;border: 1px dotted black;border-radius: 0.25em;box-sizing: border-box;margin-bottom: 0.5em;}#sk-container-id-4 div.sk-estimator:hover {background-color: #d4ebff;}#sk-container-id-4 div.sk-parallel-item::after {content: \"\";width: 100%;border-bottom: 1px solid gray;flex-grow: 1;}#sk-container-id-4 div.sk-label:hover label.sk-toggleable__label {background-color: #d4ebff;}#sk-container-id-4 div.sk-serial::before {content: \"\";position: absolute;border-left: 1px solid gray;box-sizing: border-box;top: 0;bottom: 0;left: 50%;z-index: 0;}#sk-container-id-4 div.sk-serial {display: flex;flex-direction: column;align-items: center;background-color: white;padding-right: 0.2em;padding-left: 0.2em;position: relative;}#sk-container-id-4 div.sk-item {position: relative;z-index: 1;}#sk-container-id-4 div.sk-parallel {display: flex;align-items: stretch;justify-content: center;background-color: white;position: relative;}#sk-container-id-4 div.sk-item::before, #sk-container-id-4 div.sk-parallel-item::before {content: \"\";position: absolute;border-left: 1px solid gray;box-sizing: border-box;top: 0;bottom: 0;left: 50%;z-index: -1;}#sk-container-id-4 div.sk-parallel-item {display: flex;flex-direction: column;z-index: 1;position: relative;background-color: white;}#sk-container-id-4 div.sk-parallel-item:first-child::after {align-self: flex-end;width: 50%;}#sk-container-id-4 div.sk-parallel-item:last-child::after {align-self: flex-start;width: 50%;}#sk-container-id-4 div.sk-parallel-item:only-child::after {width: 0;}#sk-container-id-4 div.sk-dashed-wrapped {border: 1px dashed gray;margin: 0 0.4em 0.5em 0.4em;box-sizing: border-box;padding-bottom: 0.4em;background-color: white;}#sk-container-id-4 div.sk-label label {font-family: monospace;font-weight: bold;display: inline-block;line-height: 1.2em;}#sk-container-id-4 div.sk-label-container {text-align: center;}#sk-container-id-4 div.sk-container {/* jupyter's `normalize.less` sets `[hidden] { display: none; }` but bootstrap.min.css set `[hidden] { display: none !important; }` so we also need the `!important` here to be able to override the default hidden behavior on the sphinx rendered scikit-learn.org. See: https://github.com/scikit-learn/scikit-learn/issues/21755 */display: inline-block !important;position: relative;}#sk-container-id-4 div.sk-text-repr-fallback {display: none;}</style><div id=\"sk-container-id-4\" class=\"sk-top-container\"><div class=\"sk-text-repr-fallback\"><pre>GridSearchCV(cv=5, estimator=RandomForestClassifier(random_state=42),\n             param_grid={&#x27;max_features&#x27;: [&#x27;sqrt&#x27;, &#x27;log2&#x27;]}, scoring=&#x27;accuracy&#x27;)</pre><b>In a Jupyter environment, please rerun this cell to show the HTML representation or trust the notebook. <br />On GitHub, the HTML representation is unable to render, please try loading this page with nbviewer.org.</b></div><div class=\"sk-container\" hidden><div class=\"sk-item sk-dashed-wrapped\"><div class=\"sk-label-container\"><div class=\"sk-label sk-toggleable\"><input class=\"sk-toggleable__control sk-hidden--visually\" id=\"sk-estimator-id-8\" type=\"checkbox\" ><label for=\"sk-estimator-id-8\" class=\"sk-toggleable__label sk-toggleable__label-arrow\">GridSearchCV</label><div class=\"sk-toggleable__content\"><pre>GridSearchCV(cv=5, estimator=RandomForestClassifier(random_state=42),\n             param_grid={&#x27;max_features&#x27;: [&#x27;sqrt&#x27;, &#x27;log2&#x27;]}, scoring=&#x27;accuracy&#x27;)</pre></div></div></div><div class=\"sk-parallel\"><div class=\"sk-parallel-item\"><div class=\"sk-item\"><div class=\"sk-label-container\"><div class=\"sk-label sk-toggleable\"><input class=\"sk-toggleable__control sk-hidden--visually\" id=\"sk-estimator-id-9\" type=\"checkbox\" ><label for=\"sk-estimator-id-9\" class=\"sk-toggleable__label sk-toggleable__label-arrow\">estimator: RandomForestClassifier</label><div class=\"sk-toggleable__content\"><pre>RandomForestClassifier(random_state=42)</pre></div></div></div><div class=\"sk-serial\"><div class=\"sk-item\"><div class=\"sk-estimator sk-toggleable\"><input class=\"sk-toggleable__control sk-hidden--visually\" id=\"sk-estimator-id-10\" type=\"checkbox\" ><label for=\"sk-estimator-id-10\" class=\"sk-toggleable__label sk-toggleable__label-arrow\">RandomForestClassifier</label><div class=\"sk-toggleable__content\"><pre>RandomForestClassifier(random_state=42)</pre></div></div></div></div></div></div></div></div></div></div>"
     },
     "execution_count": 21,
     "metadata": {},
     "output_type": "execute_result"
    }
   ],
   "source": [
    "grid_values = {'max_features': ['sqrt', 'log2']}\n",
    "\n",
    "rf = RandomForestClassifier(random_state=42)\n",
    "rf_cv = GridSearchCV(rf, param_grid=grid_values, scoring='accuracy', cv=5)\n",
    "rf_cv.fit(X_train, y_train)"
   ],
   "metadata": {
    "collapsed": false,
    "ExecuteTime": {
     "end_time": "2024-01-26T20:57:47.149641300Z",
     "start_time": "2024-01-26T20:57:05.125493700Z"
    }
   },
   "id": "178c86fbce4dc2cd"
  },
  {
   "cell_type": "code",
   "execution_count": 22,
   "outputs": [
    {
     "name": "stdout",
     "output_type": "stream",
     "text": [
      "Accuracy: 1.0\n",
      "Classification Report:\n",
      "              precision    recall  f1-score   support\n",
      "\n",
      "         0.0       1.00      1.00      1.00      5485\n",
      "         1.0       1.00      1.00      1.00      6700\n",
      "\n",
      "    accuracy                           1.00     12185\n",
      "   macro avg       1.00      1.00      1.00     12185\n",
      "weighted avg       1.00      1.00      1.00     12185\n"
     ]
    }
   ],
   "source": [
    "pred = rf_cv.predict(X_test)\n",
    "\n",
    "accuracy = accuracy_score(y_test, pred)\n",
    "test_report = classification_report(y_test, pred)\n",
    "print(f\"Accuracy: {accuracy}\\nClassification Report:\\n{test_report}\\n\")"
   ],
   "metadata": {
    "collapsed": false,
    "ExecuteTime": {
     "end_time": "2024-01-26T21:03:28.303836900Z",
     "start_time": "2024-01-26T21:03:28.131204800Z"
    }
   },
   "id": "57a16c27deb3db87"
  },
  {
   "cell_type": "code",
   "execution_count": 23,
   "outputs": [],
   "source": [
    "rf_best = rf_cv.best_estimator_"
   ],
   "metadata": {
    "collapsed": false,
    "ExecuteTime": {
     "end_time": "2024-01-26T21:03:28.568332900Z",
     "start_time": "2024-01-26T21:03:28.561313Z"
    }
   },
   "id": "e71a09077dd32859"
  },
  {
   "cell_type": "code",
   "execution_count": 24,
   "outputs": [
    {
     "name": "stdout",
     "output_type": "stream",
     "text": [
      "Accuracy: 1.0\n",
      "Classification Report:\n",
      "              precision    recall  f1-score   support\n",
      "\n",
      "         0.0       1.00      1.00      1.00      5485\n",
      "         1.0       1.00      1.00      1.00      6700\n",
      "\n",
      "    accuracy                           1.00     12185\n",
      "   macro avg       1.00      1.00      1.00     12185\n",
      "weighted avg       1.00      1.00      1.00     12185\n"
     ]
    }
   ],
   "source": [
    "pred = rf_best.predict(X_test)\n",
    "\n",
    "accuracy = accuracy_score(y_test, pred)\n",
    "test_report = classification_report(y_test, pred)\n",
    "print(f\"Accuracy: {accuracy}\\nClassification Report:\\n{test_report}\\n\")"
   ],
   "metadata": {
    "collapsed": false,
    "ExecuteTime": {
     "end_time": "2024-01-26T21:03:29.493274Z",
     "start_time": "2024-01-26T21:03:29.332201500Z"
    }
   },
   "id": "fb65fee464549c38"
  },
  {
   "cell_type": "code",
   "execution_count": 25,
   "outputs": [
    {
     "data": {
      "text/plain": "RandomForestClassifier(random_state=42)",
      "text/html": "<style>#sk-container-id-5 {color: black;}#sk-container-id-5 pre{padding: 0;}#sk-container-id-5 div.sk-toggleable {background-color: white;}#sk-container-id-5 label.sk-toggleable__label {cursor: pointer;display: block;width: 100%;margin-bottom: 0;padding: 0.3em;box-sizing: border-box;text-align: center;}#sk-container-id-5 label.sk-toggleable__label-arrow:before {content: \"▸\";float: left;margin-right: 0.25em;color: #696969;}#sk-container-id-5 label.sk-toggleable__label-arrow:hover:before {color: black;}#sk-container-id-5 div.sk-estimator:hover label.sk-toggleable__label-arrow:before {color: black;}#sk-container-id-5 div.sk-toggleable__content {max-height: 0;max-width: 0;overflow: hidden;text-align: left;background-color: #f0f8ff;}#sk-container-id-5 div.sk-toggleable__content pre {margin: 0.2em;color: black;border-radius: 0.25em;background-color: #f0f8ff;}#sk-container-id-5 input.sk-toggleable__control:checked~div.sk-toggleable__content {max-height: 200px;max-width: 100%;overflow: auto;}#sk-container-id-5 input.sk-toggleable__control:checked~label.sk-toggleable__label-arrow:before {content: \"▾\";}#sk-container-id-5 div.sk-estimator input.sk-toggleable__control:checked~label.sk-toggleable__label {background-color: #d4ebff;}#sk-container-id-5 div.sk-label input.sk-toggleable__control:checked~label.sk-toggleable__label {background-color: #d4ebff;}#sk-container-id-5 input.sk-hidden--visually {border: 0;clip: rect(1px 1px 1px 1px);clip: rect(1px, 1px, 1px, 1px);height: 1px;margin: -1px;overflow: hidden;padding: 0;position: absolute;width: 1px;}#sk-container-id-5 div.sk-estimator {font-family: monospace;background-color: #f0f8ff;border: 1px dotted black;border-radius: 0.25em;box-sizing: border-box;margin-bottom: 0.5em;}#sk-container-id-5 div.sk-estimator:hover {background-color: #d4ebff;}#sk-container-id-5 div.sk-parallel-item::after {content: \"\";width: 100%;border-bottom: 1px solid gray;flex-grow: 1;}#sk-container-id-5 div.sk-label:hover label.sk-toggleable__label {background-color: #d4ebff;}#sk-container-id-5 div.sk-serial::before {content: \"\";position: absolute;border-left: 1px solid gray;box-sizing: border-box;top: 0;bottom: 0;left: 50%;z-index: 0;}#sk-container-id-5 div.sk-serial {display: flex;flex-direction: column;align-items: center;background-color: white;padding-right: 0.2em;padding-left: 0.2em;position: relative;}#sk-container-id-5 div.sk-item {position: relative;z-index: 1;}#sk-container-id-5 div.sk-parallel {display: flex;align-items: stretch;justify-content: center;background-color: white;position: relative;}#sk-container-id-5 div.sk-item::before, #sk-container-id-5 div.sk-parallel-item::before {content: \"\";position: absolute;border-left: 1px solid gray;box-sizing: border-box;top: 0;bottom: 0;left: 50%;z-index: -1;}#sk-container-id-5 div.sk-parallel-item {display: flex;flex-direction: column;z-index: 1;position: relative;background-color: white;}#sk-container-id-5 div.sk-parallel-item:first-child::after {align-self: flex-end;width: 50%;}#sk-container-id-5 div.sk-parallel-item:last-child::after {align-self: flex-start;width: 50%;}#sk-container-id-5 div.sk-parallel-item:only-child::after {width: 0;}#sk-container-id-5 div.sk-dashed-wrapped {border: 1px dashed gray;margin: 0 0.4em 0.5em 0.4em;box-sizing: border-box;padding-bottom: 0.4em;background-color: white;}#sk-container-id-5 div.sk-label label {font-family: monospace;font-weight: bold;display: inline-block;line-height: 1.2em;}#sk-container-id-5 div.sk-label-container {text-align: center;}#sk-container-id-5 div.sk-container {/* jupyter's `normalize.less` sets `[hidden] { display: none; }` but bootstrap.min.css set `[hidden] { display: none !important; }` so we also need the `!important` here to be able to override the default hidden behavior on the sphinx rendered scikit-learn.org. See: https://github.com/scikit-learn/scikit-learn/issues/21755 */display: inline-block !important;position: relative;}#sk-container-id-5 div.sk-text-repr-fallback {display: none;}</style><div id=\"sk-container-id-5\" class=\"sk-top-container\"><div class=\"sk-text-repr-fallback\"><pre>RandomForestClassifier(random_state=42)</pre><b>In a Jupyter environment, please rerun this cell to show the HTML representation or trust the notebook. <br />On GitHub, the HTML representation is unable to render, please try loading this page with nbviewer.org.</b></div><div class=\"sk-container\" hidden><div class=\"sk-item\"><div class=\"sk-estimator sk-toggleable\"><input class=\"sk-toggleable__control sk-hidden--visually\" id=\"sk-estimator-id-11\" type=\"checkbox\" checked><label for=\"sk-estimator-id-11\" class=\"sk-toggleable__label sk-toggleable__label-arrow\">RandomForestClassifier</label><div class=\"sk-toggleable__content\"><pre>RandomForestClassifier(random_state=42)</pre></div></div></div></div></div>"
     },
     "execution_count": 25,
     "metadata": {},
     "output_type": "execute_result"
    }
   ],
   "source": [
    "rf_best"
   ],
   "metadata": {
    "collapsed": false,
    "ExecuteTime": {
     "end_time": "2024-01-26T21:03:30.108208300Z",
     "start_time": "2024-01-26T21:03:30.101611300Z"
    }
   },
   "id": "cdf803d4b6781fa1"
  },
  {
   "cell_type": "code",
   "execution_count": 26,
   "outputs": [
    {
     "data": {
      "text/plain": "     importance              columns\n0      0.084016                   x0\n2      0.046896                   x2\n1      0.035014                   x1\n85     0.032459         stem-color_w\n39     0.023797    gill-attachment_p\n..          ...                  ...\n88     0.000245         veil-color_e\n110    0.000212  spore-print-color_u\n89     0.000100         veil-color_k\n119    0.000091            habitat_u\n109    0.000000  spore-print-color_r\n\n[125 rows x 2 columns]",
      "text/html": "<div>\n<style scoped>\n    .dataframe tbody tr th:only-of-type {\n        vertical-align: middle;\n    }\n\n    .dataframe tbody tr th {\n        vertical-align: top;\n    }\n\n    .dataframe thead th {\n        text-align: right;\n    }\n</style>\n<table border=\"1\" class=\"dataframe\">\n  <thead>\n    <tr style=\"text-align: right;\">\n      <th></th>\n      <th>importance</th>\n      <th>columns</th>\n    </tr>\n  </thead>\n  <tbody>\n    <tr>\n      <th>0</th>\n      <td>0.084016</td>\n      <td>x0</td>\n    </tr>\n    <tr>\n      <th>2</th>\n      <td>0.046896</td>\n      <td>x2</td>\n    </tr>\n    <tr>\n      <th>1</th>\n      <td>0.035014</td>\n      <td>x1</td>\n    </tr>\n    <tr>\n      <th>85</th>\n      <td>0.032459</td>\n      <td>stem-color_w</td>\n    </tr>\n    <tr>\n      <th>39</th>\n      <td>0.023797</td>\n      <td>gill-attachment_p</td>\n    </tr>\n    <tr>\n      <th>...</th>\n      <td>...</td>\n      <td>...</td>\n    </tr>\n    <tr>\n      <th>88</th>\n      <td>0.000245</td>\n      <td>veil-color_e</td>\n    </tr>\n    <tr>\n      <th>110</th>\n      <td>0.000212</td>\n      <td>spore-print-color_u</td>\n    </tr>\n    <tr>\n      <th>89</th>\n      <td>0.000100</td>\n      <td>veil-color_k</td>\n    </tr>\n    <tr>\n      <th>119</th>\n      <td>0.000091</td>\n      <td>habitat_u</td>\n    </tr>\n    <tr>\n      <th>109</th>\n      <td>0.000000</td>\n      <td>spore-print-color_r</td>\n    </tr>\n  </tbody>\n</table>\n<p>125 rows × 2 columns</p>\n</div>"
     },
     "execution_count": 26,
     "metadata": {},
     "output_type": "execute_result"
    }
   ],
   "source": [
    "analysis = pd.DataFrame(rf_best.feature_importances_).rename({0 : 'importance'}, axis=1)\n",
    "analysis.loc[:, 'columns'] = X_train.columns\n",
    "analysis.sort_values('importance', ascending=False)"
   ],
   "metadata": {
    "collapsed": false,
    "ExecuteTime": {
     "end_time": "2024-01-26T21:03:32.502397500Z",
     "start_time": "2024-01-26T21:03:32.487597700Z"
    }
   },
   "id": "bcf1d5e8aad8746b"
  },
  {
   "cell_type": "code",
   "execution_count": null,
   "outputs": [],
   "source": [],
   "metadata": {
    "collapsed": false
   },
   "id": "f1d7633c695c9f02"
  }
 ],
 "metadata": {
  "kernelspec": {
   "display_name": "Python 3",
   "language": "python",
   "name": "python3"
  },
  "language_info": {
   "codemirror_mode": {
    "name": "ipython",
    "version": 2
   },
   "file_extension": ".py",
   "mimetype": "text/x-python",
   "name": "python",
   "nbconvert_exporter": "python",
   "pygments_lexer": "ipython2",
   "version": "2.7.6"
  }
 },
 "nbformat": 4,
 "nbformat_minor": 5
}
